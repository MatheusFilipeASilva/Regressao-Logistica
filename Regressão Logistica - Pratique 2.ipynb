{
 "cells": [
  {
   "cell_type": "markdown",
   "metadata": {},
   "source": [
    "# Regressão Logística I\n",
    "## Tarefa II\n",
    "\n",
    "Vamos trabalhar com a mesma base do exercício anterior, mas vamos aprofundar um pouco mais a nossa regressão."
   ]
  },
  {
   "cell_type": "code",
   "execution_count": 87,
   "metadata": {},
   "outputs": [],
   "source": [
    "import pandas as pd\n",
    "import seaborn as sns\n",
    "import matplotlib.pyplot as plt\n",
    "import numpy as np\n",
    "\n",
    "import statsmodels.formula.api as smf"
   ]
  },
  {
   "cell_type": "code",
   "execution_count": 88,
   "metadata": {
    "tags": []
   },
   "outputs": [
    {
     "data": {
      "text/html": [
       "<div>\n",
       "<style scoped>\n",
       "    .dataframe tbody tr th:only-of-type {\n",
       "        vertical-align: middle;\n",
       "    }\n",
       "\n",
       "    .dataframe tbody tr th {\n",
       "        vertical-align: top;\n",
       "    }\n",
       "\n",
       "    .dataframe thead th {\n",
       "        text-align: right;\n",
       "    }\n",
       "</style>\n",
       "<table border=\"1\" class=\"dataframe\">\n",
       "  <thead>\n",
       "    <tr style=\"text-align: right;\">\n",
       "      <th></th>\n",
       "      <th>age</th>\n",
       "      <th>sex</th>\n",
       "      <th>cp</th>\n",
       "      <th>trestbps</th>\n",
       "      <th>chol</th>\n",
       "      <th>fbs</th>\n",
       "      <th>restecg</th>\n",
       "      <th>thalach</th>\n",
       "      <th>exang</th>\n",
       "      <th>oldpeak</th>\n",
       "      <th>slope</th>\n",
       "      <th>ca</th>\n",
       "      <th>thal</th>\n",
       "      <th>num</th>\n",
       "      <th>flag_doente</th>\n",
       "    </tr>\n",
       "  </thead>\n",
       "  <tbody>\n",
       "    <tr>\n",
       "      <th>0</th>\n",
       "      <td>63.0</td>\n",
       "      <td>1.0</td>\n",
       "      <td>1.0</td>\n",
       "      <td>145.0</td>\n",
       "      <td>233.0</td>\n",
       "      <td>1.0</td>\n",
       "      <td>2.0</td>\n",
       "      <td>150.0</td>\n",
       "      <td>0.0</td>\n",
       "      <td>2.3</td>\n",
       "      <td>3.0</td>\n",
       "      <td>0.0</td>\n",
       "      <td>6.0</td>\n",
       "      <td>0</td>\n",
       "      <td>0</td>\n",
       "    </tr>\n",
       "    <tr>\n",
       "      <th>1</th>\n",
       "      <td>67.0</td>\n",
       "      <td>1.0</td>\n",
       "      <td>4.0</td>\n",
       "      <td>160.0</td>\n",
       "      <td>286.0</td>\n",
       "      <td>0.0</td>\n",
       "      <td>2.0</td>\n",
       "      <td>108.0</td>\n",
       "      <td>1.0</td>\n",
       "      <td>1.5</td>\n",
       "      <td>2.0</td>\n",
       "      <td>3.0</td>\n",
       "      <td>3.0</td>\n",
       "      <td>2</td>\n",
       "      <td>1</td>\n",
       "    </tr>\n",
       "    <tr>\n",
       "      <th>2</th>\n",
       "      <td>67.0</td>\n",
       "      <td>1.0</td>\n",
       "      <td>4.0</td>\n",
       "      <td>120.0</td>\n",
       "      <td>229.0</td>\n",
       "      <td>0.0</td>\n",
       "      <td>2.0</td>\n",
       "      <td>129.0</td>\n",
       "      <td>1.0</td>\n",
       "      <td>2.6</td>\n",
       "      <td>2.0</td>\n",
       "      <td>2.0</td>\n",
       "      <td>7.0</td>\n",
       "      <td>1</td>\n",
       "      <td>1</td>\n",
       "    </tr>\n",
       "    <tr>\n",
       "      <th>3</th>\n",
       "      <td>37.0</td>\n",
       "      <td>1.0</td>\n",
       "      <td>3.0</td>\n",
       "      <td>130.0</td>\n",
       "      <td>250.0</td>\n",
       "      <td>0.0</td>\n",
       "      <td>0.0</td>\n",
       "      <td>187.0</td>\n",
       "      <td>0.0</td>\n",
       "      <td>3.5</td>\n",
       "      <td>3.0</td>\n",
       "      <td>0.0</td>\n",
       "      <td>3.0</td>\n",
       "      <td>0</td>\n",
       "      <td>0</td>\n",
       "    </tr>\n",
       "    <tr>\n",
       "      <th>4</th>\n",
       "      <td>41.0</td>\n",
       "      <td>0.0</td>\n",
       "      <td>2.0</td>\n",
       "      <td>130.0</td>\n",
       "      <td>204.0</td>\n",
       "      <td>0.0</td>\n",
       "      <td>2.0</td>\n",
       "      <td>172.0</td>\n",
       "      <td>0.0</td>\n",
       "      <td>1.4</td>\n",
       "      <td>1.0</td>\n",
       "      <td>0.0</td>\n",
       "      <td>3.0</td>\n",
       "      <td>0</td>\n",
       "      <td>0</td>\n",
       "    </tr>\n",
       "  </tbody>\n",
       "</table>\n",
       "</div>"
      ],
      "text/plain": [
       "    age  sex   cp  trestbps   chol  fbs  restecg  thalach  exang  oldpeak  \\\n",
       "0  63.0  1.0  1.0     145.0  233.0  1.0      2.0    150.0    0.0      2.3   \n",
       "1  67.0  1.0  4.0     160.0  286.0  0.0      2.0    108.0    1.0      1.5   \n",
       "2  67.0  1.0  4.0     120.0  229.0  0.0      2.0    129.0    1.0      2.6   \n",
       "3  37.0  1.0  3.0     130.0  250.0  0.0      0.0    187.0    0.0      3.5   \n",
       "4  41.0  0.0  2.0     130.0  204.0  0.0      2.0    172.0    0.0      1.4   \n",
       "\n",
       "   slope   ca thal  num  flag_doente  \n",
       "0    3.0  0.0  6.0    0            0  \n",
       "1    2.0  3.0  3.0    2            1  \n",
       "2    2.0  2.0  7.0    1            1  \n",
       "3    3.0  0.0  3.0    0            0  \n",
       "4    1.0  0.0  3.0    0            0  "
      ]
     },
     "execution_count": 88,
     "metadata": {},
     "output_type": "execute_result"
    }
   ],
   "source": [
    "url = 'https://archive.ics.uci.edu/ml/machine-learning-databases/heart-disease/processed.cleveland.data'\n",
    "\n",
    "df = pd.read_csv(url, \n",
    "                 names=['age', 'sex', 'cp', 'trestbps', 'chol', 'fbs', 'restecg',\n",
    "                        'thalach', 'exang', 'oldpeak', 'slope', 'ca', 'thal', 'num'])\n",
    "df['flag_doente'] = (df['num']!=0).astype('int64')\n",
    "df.head()"
   ]
  },
  {
   "cell_type": "markdown",
   "metadata": {},
   "source": [
    "A descrição das variáveis está recortada abaixo:\n",
    "- age: idade do paciente em anos\n",
    "- sex: sexo (1 = male; 0 = female)  \n",
    "- cp: tipo de dor no peito\n",
    "  - 1: angina típica\n",
    "  - 2: angina atípica\n",
    "  - 3: dor não-angina\n",
    "  - 4: assintomático\n",
    "- trestbps: pressão sanguínea em repouso (em mm Hg na admissão ao hospital\n",
    "- chol: colesterol sérico em mg/dl\n",
    "- fbs: (açúcar no sangue em jejum > 120 mg/dl) (1 = True; 0 = False)\n",
    "- restecg: resultados eletrocardiográficos em repouso\n",
    "  - 0: normal\n",
    "  - 1: tendo anormalidade da onda ST-T (Inversões de onda T e / ou ST com elevação ou depressão de > 0.05 mV)\n",
    "  - 2: mostrando hipertrofia ventricular esquerda provável ou definitiva pelos critérios de Estes\n",
    "- thalach: frequência cardíaca máxima alcançada\n",
    "- exang: angina induzida por exercício(1 = sim; 0 = não)\n",
    "- oldpeak = Depressão de ST induzida por exercício em relação ao repouso\n",
    "- slope: Depressão de ST induzida por exercício em relação ao repouso\n",
    "  - 1: inclinação ascendente\n",
    "  - 2: estável\n",
    "  - 3: inclinação descendente\n",
    "- ca: número de vasos principais (0-3) coloridos por fluorosopia\n",
    "- thal: 3 = normal; 6 = defeito corrigido; 7 = defeito reversível\n",
    "- num: diagnóstico de doença cardíaga (status de doença angiográfica)"
   ]
  },
  {
   "cell_type": "code",
   "execution_count": 90,
   "metadata": {},
   "outputs": [],
   "source": [
    "# Starting statement: our data has no missing, so we dont need to take care of them..."
   ]
  },
  {
   "cell_type": "markdown",
   "metadata": {},
   "source": [
    "1. Considere o script que monta a análise bivariada que você fez na tarefa anterior. Transforme esse script em uma função, que deve:\n",
    "- Ter como parâmetros de entrada:\n",
    "    - Um *dataframe* contendo os dados a serem avaliados\n",
    "    - Um *string* contendo o nome da variável resposta\n",
    "    - Um *string* contendo o nome da variável explicativa\n",
    "- E deve retornar um *dataframe* com os dados da bivariada. \n",
    "**Monte** a mesma bivariada pelo menos três variáveis qualitativas do *data-frame*. Qual delas parece discriminar mais o risco?
The variable that seens be a best indicator from our 'flag_doente' (sick flag) is cp = 4. But we have to add that the other values
from that var are not as much important in that distinction"
   ]
  },
  {
   "cell_type": "code",
   "execution_count": 92,
   "metadata": {},
   "outputs": [],
   "source": [
    "def biv_creator(df, ans_var, dep_var, show_graphic:bool) -> pd.DataFrame:\n",
    "    biv_group = df.groupby(dep_var)[ans_var].mean().reset_index()\n",
    "    sns.barplot(x=dep_var, y=ans_var, data=biv_group)\n",
    "\n",
    "    tab = pd.crosstab(df['sex'], df['flag_doente'], margins=True)\n",
    "    tab['sick_mean'] = tab[1]/tab[\"All\"]\n",
    "    tab['sick_odds'] = tab[1]/tab[0]\n",
    "    tab['sick_odds_ratio'] = tab['sick_odds']/tab.loc['All', 'sick_odds']\n",
    "    tab['logito'] = np.log(tab['sick_odds'])\n",
    "    tab['WOE'] = np.log(tab['sick_odds_ratio'])\n",
    "    plt.title(f'{dep_var} X {ans_var}')\n",
    "    plt.show()\n",
    "    \n",
    "    return tab\n"
   ]
  },
  {
   "cell_type": "code",
   "execution_count": 93,
   "metadata": {},
   "outputs": [
    {
     "data": {
      "image/png": "[encoded data removed]",
      "text/plain": [
       "<Figure size 640x480 with 1 Axes>"
      ]
     },
     "metadata": {},
     "output_type": "display_data"
    },
    {
     "data": {
      "image/png": "[encoded data removed]",
      "text/plain": [
       "<Figure size 640x480 with 1 Axes>"
      ]
     },
     "metadata": {},
     "output_type": "display_data"
    },
    {
     "data": {
      "image/png": "[encoded data removed]",
      "text/plain": [
       "<Figure size 640x480 with 1 Axes>"
      ]
     },
     "metadata": {},
     "output_type": "display_data"
    },
    {
     "data": {
      "text/html": [
       "<div>\n",
       "<style scoped>\n",
       "    .dataframe tbody tr th:only-of-type {\n",
       "        vertical-align: middle;\n",
       "    }\n",
       "\n",
       "    .dataframe tbody tr th {\n",
       "        vertical-align: top;\n",
       "    }\n",
       "\n",
       "    .dataframe thead th {\n",
       "        text-align: right;\n",
       "    }\n",
       "</style>\n",
       "<table border=\"1\" class=\"dataframe\">\n",
       "  <thead>\n",
       "    <tr style=\"text-align: right;\">\n",
       "      <th>flag_doente</th>\n",
       "      <th>0</th>\n",
       "      <th>1</th>\n",
       "      <th>All</th>\n",
       "      <th>sick_mean</th>\n",
       "      <th>sick_odds</th>\n",
       "      <th>sick_odds_ratio</th>\n",
       "      <th>logito</th>\n",
       "      <th>WOE</th>\n",
       "    </tr>\n",
       "    <tr>\n",
       "      <th>sex</th>\n",
       "      <th></th>\n",
       "      <th></th>\n",
       "      <th></th>\n",
       "      <th></th>\n",
       "      <th></th>\n",
       "      <th></th>\n",
       "      <th></th>\n",
       "      <th></th>\n",
       "    </tr>\n",
       "  </thead>\n",
       "  <tbody>\n",
       "    <tr>\n",
       "      <th>0.0</th>\n",
       "      <td>72</td>\n",
       "      <td>25</td>\n",
       "      <td>97</td>\n",
       "      <td>0.257732</td>\n",
       "      <td>0.347222</td>\n",
       "      <td>0.409672</td>\n",
       "      <td>-1.057790</td>\n",
       "      <td>-0.892398</td>\n",
       "    </tr>\n",
       "    <tr>\n",
       "      <th>1.0</th>\n",
       "      <td>92</td>\n",
       "      <td>114</td>\n",
       "      <td>206</td>\n",
       "      <td>0.553398</td>\n",
       "      <td>1.239130</td>\n",
       "      <td>1.461996</td>\n",
       "      <td>0.214410</td>\n",
       "      <td>0.379802</td>\n",
       "    </tr>\n",
       "    <tr>\n",
       "      <th>All</th>\n",
       "      <td>164</td>\n",
       "      <td>139</td>\n",
       "      <td>303</td>\n",
       "      <td>0.458746</td>\n",
       "      <td>0.847561</td>\n",
       "      <td>1.000000</td>\n",
       "      <td>-0.165392</td>\n",
       "      <td>0.000000</td>\n",
       "    </tr>\n",
       "  </tbody>\n",
       "</table>\n",
       "</div>"
      ],
      "text/plain": [
       "flag_doente    0    1  All  sick_mean  sick_odds  sick_odds_ratio    logito  \\\n",
       "sex                                                                           \n",
       "0.0           72   25   97   0.257732   0.347222         0.409672 -1.057790   \n",
       "1.0           92  114  206   0.553398   1.239130         1.461996  0.214410   \n",
       "All          164  139  303   0.458746   0.847561         1.000000 -0.165392   \n",
       "\n",
       "flag_doente       WOE  \n",
       "sex                    \n",
       "0.0         -0.892398  \n",
       "1.0          0.379802  \n",
       "All          0.000000  "
      ]
     },
     "execution_count": 93,
     "metadata": {},
     "output_type": "execute_result"
    }
   ],
   "source": [
    "sex_tab = biv_creator(df=df, ans_var='flag_doente', dep_var='sex', show_graphic=True)\n",
    "cp_tab = biv_creator(df=df, ans_var='flag_doente', dep_var='cp', show_graphic=True)\n",
    "slope_tab = biv_creator(df=df, ans_var='flag_doente', dep_var='slope', show_graphic=True)\n",
    "sex_tab.head()"
   ]
  },
  {
   "cell_type": "raw",
   "metadata": {},
   "source": [
    "When we consider the bivariate analysis, apparently the var with best capacity to determine decisively the sick state of a person is, specifically, persons who have cp=4. Althought, the entire var (cp) may not be that much descriptive as that specific value."
   ]
  },
  {
   "cell_type": "markdown",
   "metadata": {},
   "source": [
    "2. Monte uma função semelhante para categorizar variáveis quantitativas contínuas (com muitas categorias) como ```age```.  \n",
    "    Além dos mesmos parâmetros da função anterior, defina mais um parâmetro como número de categorias que você deseja quebrar. Defina um valor '*default*' de 5 grupos para este parâmetro.  "
   ]
  },
  {
   "cell_type": "code",
   "execution_count": 95,
   "metadata": {},
   "outputs": [
    {
     "name": "stderr",
     "output_type": "stream",
     "text": [
      "C:\\Users\\Matheus\\AppData\\Local\\Temp\\ipykernel_6516\\2736741420.py:4: FutureWarning: The default of observed=False is deprecated and will be changed to True in a future version of pandas. Pass observed=False to retain current behavior or observed=True to adopt the future default and silence this warning.\n",
      "  gb_ans_var = df.groupby(cat_intr)[ans_var].mean()\n"
     ]
    },
    {
     "data": {
      "image/png": "[encoded data removed]",
      "text/plain": [
       "<Figure size 640x480 with 1 Axes>"
      ]
     },
     "metadata": {},
     "output_type": "display_data"
    },
    {
     "name": "stderr",
     "output_type": "stream",
     "text": [
      "C:\\Users\\Matheus\\AppData\\Local\\Temp\\ipykernel_6516\\2736741420.py:16: FutureWarning: The default of observed=False is deprecated and will be changed to True in a future version of pandas. Pass observed=False to retain current behavior or observed=True to adopt the future default and silence this warning.\n",
      "  mean_dep_cut = df.groupby(f'cat_{dep_var}')[dep_var].mean()\n"
     ]
    },
    {
     "data": {
      "text/html": [
       "<div>\n",
       "<style scoped>\n",
       "    .dataframe tbody tr th:only-of-type {\n",
       "        vertical-align: middle;\n",
       "    }\n",
       "\n",
       "    .dataframe tbody tr th {\n",
       "        vertical-align: top;\n",
       "    }\n",
       "\n",
       "    .dataframe thead th {\n",
       "        text-align: right;\n",
       "    }\n",
       "</style>\n",
       "<table border=\"1\" class=\"dataframe\">\n",
       "  <thead>\n",
       "    <tr style=\"text-align: right;\">\n",
       "      <th>flag_doente</th>\n",
       "      <th>0</th>\n",
       "      <th>1</th>\n",
       "      <th>All</th>\n",
       "      <th>sick_mean</th>\n",
       "      <th>sick_odds</th>\n",
       "      <th>sick_odds_ratio</th>\n",
       "      <th>logito</th>\n",
       "      <th>WOE</th>\n",
       "      <th>mean_age</th>\n",
       "    </tr>\n",
       "    <tr>\n",
       "      <th>cat_age</th>\n",
       "      <th></th>\n",
       "      <th></th>\n",
       "      <th></th>\n",
       "      <th></th>\n",
       "      <th></th>\n",
       "      <th></th>\n",
       "      <th></th>\n",
       "      <th></th>\n",
       "      <th></th>\n",
       "    </tr>\n",
       "  </thead>\n",
       "  <tbody>\n",
       "    <tr>\n",
       "      <th>(28.999, 44.0]</th>\n",
       "      <td>41</td>\n",
       "      <td>14</td>\n",
       "      <td>55</td>\n",
       "      <td>0.254545</td>\n",
       "      <td>0.341463</td>\n",
       "      <td>0.402878</td>\n",
       "      <td>-1.074515</td>\n",
       "      <td>-0.909122</td>\n",
       "      <td>40.672727</td>\n",
       "    </tr>\n",
       "    <tr>\n",
       "      <th>(44.0, 51.0]</th>\n",
       "      <td>33</td>\n",
       "      <td>18</td>\n",
       "      <td>51</td>\n",
       "      <td>0.352941</td>\n",
       "      <td>0.545455</td>\n",
       "      <td>0.643558</td>\n",
       "      <td>-0.606136</td>\n",
       "      <td>-0.440743</td>\n",
       "      <td>48.235294</td>\n",
       "    </tr>\n",
       "    <tr>\n",
       "      <th>(51.0, 56.0]</th>\n",
       "      <td>33</td>\n",
       "      <td>23</td>\n",
       "      <td>56</td>\n",
       "      <td>0.410714</td>\n",
       "      <td>0.696970</td>\n",
       "      <td>0.822324</td>\n",
       "      <td>-0.361013</td>\n",
       "      <td>-0.195621</td>\n",
       "      <td>53.928571</td>\n",
       "    </tr>\n",
       "    <tr>\n",
       "      <th>(56.0, 59.0]</th>\n",
       "      <td>19</td>\n",
       "      <td>31</td>\n",
       "      <td>50</td>\n",
       "      <td>0.620000</td>\n",
       "      <td>1.631579</td>\n",
       "      <td>1.925028</td>\n",
       "      <td>0.489548</td>\n",
       "      <td>0.654941</td>\n",
       "      <td>57.940000</td>\n",
       "    </tr>\n",
       "    <tr>\n",
       "      <th>(59.0, 63.667]</th>\n",
       "      <td>11</td>\n",
       "      <td>29</td>\n",
       "      <td>40</td>\n",
       "      <td>0.725000</td>\n",
       "      <td>2.636364</td>\n",
       "      <td>3.110530</td>\n",
       "      <td>0.969401</td>\n",
       "      <td>1.134793</td>\n",
       "      <td>61.425000</td>\n",
       "    </tr>\n",
       "    <tr>\n",
       "      <th>(63.667, 77.0]</th>\n",
       "      <td>27</td>\n",
       "      <td>24</td>\n",
       "      <td>51</td>\n",
       "      <td>0.470588</td>\n",
       "      <td>0.888889</td>\n",
       "      <td>1.048761</td>\n",
       "      <td>-0.117783</td>\n",
       "      <td>0.047609</td>\n",
       "      <td>67.137255</td>\n",
       "    </tr>\n",
       "    <tr>\n",
       "      <th>All</th>\n",
       "      <td>164</td>\n",
       "      <td>139</td>\n",
       "      <td>303</td>\n",
       "      <td>0.458746</td>\n",
       "      <td>0.847561</td>\n",
       "      <td>1.000000</td>\n",
       "      <td>-0.165392</td>\n",
       "      <td>0.000000</td>\n",
       "      <td>NaN</td>\n",
       "    </tr>\n",
       "  </tbody>\n",
       "</table>\n",
       "</div>"
      ],
      "text/plain": [
       "flag_doente       0    1  All  sick_mean  sick_odds  sick_odds_ratio  \\\n",
       "cat_age                                                                \n",
       "(28.999, 44.0]   41   14   55   0.254545   0.341463         0.402878   \n",
       "(44.0, 51.0]     33   18   51   0.352941   0.545455         0.643558   \n",
       "(51.0, 56.0]     33   23   56   0.410714   0.696970         0.822324   \n",
       "(56.0, 59.0]     19   31   50   0.620000   1.631579         1.925028   \n",
       "(59.0, 63.667]   11   29   40   0.725000   2.636364         3.110530   \n",
       "(63.667, 77.0]   27   24   51   0.470588   0.888889         1.048761   \n",
       "All             164  139  303   0.458746   0.847561         1.000000   \n",
       "\n",
       "flag_doente       logito       WOE   mean_age  \n",
       "cat_age                                        \n",
       "(28.999, 44.0] -1.074515 -0.909122  40.672727  \n",
       "(44.0, 51.0]   -0.606136 -0.440743  48.235294  \n",
       "(51.0, 56.0]   -0.361013 -0.195621  53.928571  \n",
       "(56.0, 59.0]    0.489548  0.654941  57.940000  \n",
       "(59.0, 63.667]  0.969401  1.134793  61.425000  \n",
       "(63.667, 77.0] -0.117783  0.047609  67.137255  \n",
       "All            -0.165392  0.000000        NaN  "
      ]
     },
     "execution_count": 95,
     "metadata": {},
     "output_type": "execute_result"
    }
   ],
   "source": [
    "def categorichal_biv_creator(df, dep_var, ans_var, n_cut=5):\n",
    "    cat_intr = pd.qcut(df[dep_var], q=n_cut)\n",
    "    df[f'cat_{dep_var}'] = cat_intr\n",
    "    gb_ans_var = df.groupby(cat_intr)[ans_var].mean()\n",
    "    sns.barplot(x=df[f'cat_{dep_var}'], y=df[ans_var], data = df)\n",
    "    plt.tight_layout()\n",
    "    plt.xticks(rotation=90)\n",
    "    plt.show()\n",
    "    tabintr = pd.crosstab(df[f'cat_{dep_var}'], df[ans_var], margins=True)\n",
    "    tabintr.head()\n",
    "    tabintr['sick_mean'] = tabintr[1]/tabintr[\"All\"]\n",
    "    tabintr['sick_odds'] = tabintr[1]/tabintr[0]\n",
    "    tabintr['sick_odds_ratio'] = tabintr['sick_odds']/tabintr.loc['All', 'sick_odds']\n",
    "    tabintr['logito'] = np.log(tabintr['sick_odds'])\n",
    "    tabintr['WOE'] = np.log(tabintr['sick_odds_ratio'])\n",
    "    mean_dep_cut = df.groupby(f'cat_{dep_var}')[dep_var].mean()\n",
    "    tabintr['mean_age'] = mean_dep_cut\n",
    "    return tabintr\n",
    "\n",
    "\n",
    "gb_age = categorichal_biv_creator(df=df, dep_var='age', ans_var='flag_doente', n_cut=6)\n",
    "gb_age"
   ]
  },
  {
   "cell_type": "code",
   "execution_count": null,
   "metadata": {},
   "outputs": [],
   "source": []
  },
  {
   "cell_type": "raw",
   "metadata": {},
   "source": [
    "The graphic above, created using the prescripted function, show us the impact of age over heart disceases. The groupby returned, also do it, showing us the mean heart discease by each interval of age. An important coment to do, maybe is the fact (unexpected, in fact) that sick discease mean on 63+ it's lower than 59-63. Well, that's not exactly what we possibly were expecting for. And we could raise hypotesis to try explain that, and the most probable is that, maybe, persons who don't take care of heart health, or have problems heart related since early, probably may die before reach this age. That, "
   ]
  },
  {
   "cell_type": "markdown",
   "metadata": {},
   "source": [
    "3. Construa um modelo de regressão logística com as variáveis qualitativas: ```sex + cp +  trestbps``` e com a variável quantitativa ```age```.\n",
    "\n",
    "**Interprete os parâmetros.**"
   ]
  },
  {
   "cell_type": "code",
   "execution_count": 97,
   "metadata": {},
   "outputs": [
    {
     "name": "stdout",
     "output_type": "stream",
     "text": [
      "Optimization terminated successfully.\n",
      "         Current function value: 0.476154\n",
      "         Iterations 6\n"
     ]
    }
   ],
   "source": [
    "reglog = smf.logit(\"flag_doente ~ C(sex) + C(cp) + trestbps + age\", data = df).fit()"
   ]
  },
  {
   "cell_type": "code",
   "execution_count": 98,
   "metadata": {
    "scrolled": true
   },
   "outputs": [
    {
     "data": {
      "text/html": [
       "<table class=\"simpletable\">\n",
       "<caption>Logit Regression Results</caption>\n",
       "<tr>\n",
       "  <th>Dep. Variable:</th>      <td>flag_doente</td>   <th>  No. Observations:  </th>  <td>   303</td>  \n",
       "</tr>\n",
       "<tr>\n",
       "  <th>Model:</th>                 <td>Logit</td>      <th>  Df Residuals:      </th>  <td>   296</td>  \n",
       "</tr>\n",
       "<tr>\n",
       "  <th>Method:</th>                 <td>MLE</td>       <th>  Df Model:          </th>  <td>     6</td>  \n",
       "</tr>\n",
       "<tr>\n",
       "  <th>Date:</th>            <td>Fri, 06 Sep 2024</td> <th>  Pseudo R-squ.:     </th>  <td>0.3097</td>  \n",
       "</tr>\n",
       "<tr>\n",
       "  <th>Time:</th>                <td>20:10:25</td>     <th>  Log-Likelihood:    </th> <td> -144.27</td> \n",
       "</tr>\n",
       "<tr>\n",
       "  <th>converged:</th>             <td>True</td>       <th>  LL-Null:           </th> <td> -208.99</td> \n",
       "</tr>\n",
       "<tr>\n",
       "  <th>Covariance Type:</th>     <td>nonrobust</td>    <th>  LLR p-value:       </th> <td>1.692e-25</td>\n",
       "</tr>\n",
       "</table>\n",
       "<table class=\"simpletable\">\n",
       "<tr>\n",
       "        <td></td>           <th>coef</th>     <th>std err</th>      <th>z</th>      <th>P>|z|</th>  <th>[0.025</th>    <th>0.975]</th>  \n",
       "</tr>\n",
       "<tr>\n",
       "  <th>Intercept</th>     <td>   -8.3407</td> <td>    1.621</td> <td>   -5.145</td> <td> 0.000</td> <td>  -11.518</td> <td>   -5.163</td>\n",
       "</tr>\n",
       "<tr>\n",
       "  <th>C(sex)[T.1.0]</th> <td>    1.8094</td> <td>    0.353</td> <td>    5.130</td> <td> 0.000</td> <td>    1.118</td> <td>    2.501</td>\n",
       "</tr>\n",
       "<tr>\n",
       "  <th>C(cp)[T.2.0]</th>  <td>   -0.0617</td> <td>    0.636</td> <td>   -0.097</td> <td> 0.923</td> <td>   -1.309</td> <td>    1.186</td>\n",
       "</tr>\n",
       "<tr>\n",
       "  <th>C(cp)[T.3.0]</th>  <td>    0.0715</td> <td>    0.573</td> <td>    0.125</td> <td> 0.901</td> <td>   -1.051</td> <td>    1.194</td>\n",
       "</tr>\n",
       "<tr>\n",
       "  <th>C(cp)[T.4.0]</th>  <td>    2.4789</td> <td>    0.553</td> <td>    4.485</td> <td> 0.000</td> <td>    1.396</td> <td>    3.562</td>\n",
       "</tr>\n",
       "<tr>\n",
       "  <th>trestbps</th>      <td>    0.0193</td> <td>    0.009</td> <td>    2.261</td> <td> 0.024</td> <td>    0.003</td> <td>    0.036</td>\n",
       "</tr>\n",
       "<tr>\n",
       "  <th>age</th>           <td>    0.0567</td> <td>    0.018</td> <td>    3.120</td> <td> 0.002</td> <td>    0.021</td> <td>    0.092</td>\n",
       "</tr>\n",
       "</table>"
      ],
      "text/latex": [
       "\\begin{center}\n",
       "\\begin{tabular}{lclc}\n",
       "\\toprule\n",
       "\\textbf{Dep. Variable:}   &   flag\\_doente   & \\textbf{  No. Observations:  } &      303    \\\\\n",
       "\\textbf{Model:}           &      Logit       & \\textbf{  Df Residuals:      } &      296    \\\\\n",
       "\\textbf{Method:}          &       MLE        & \\textbf{  Df Model:          } &        6    \\\\\n",
       "\\textbf{Date:}            & Fri, 06 Sep 2024 & \\textbf{  Pseudo R-squ.:     } &   0.3097    \\\\\n",
       "\\textbf{Time:}            &     20:10:25     & \\textbf{  Log-Likelihood:    } &   -144.27   \\\\\n",
       "\\textbf{converged:}       &       True       & \\textbf{  LL-Null:           } &   -208.99   \\\\\n",
       "\\textbf{Covariance Type:} &    nonrobust     & \\textbf{  LLR p-value:       } & 1.692e-25   \\\\\n",
       "\\bottomrule\n",
       "\\end{tabular}\n",
       "\\begin{tabular}{lcccccc}\n",
       "                       & \\textbf{coef} & \\textbf{std err} & \\textbf{z} & \\textbf{P$> |$z$|$} & \\textbf{[0.025} & \\textbf{0.975]}  \\\\\n",
       "\\midrule\n",
       "\\textbf{Intercept}     &      -8.3407  &        1.621     &    -5.145  &         0.000        &      -11.518    &       -5.163     \\\\\n",
       "\\textbf{C(sex)[T.1.0]} &       1.8094  &        0.353     &     5.130  &         0.000        &        1.118    &        2.501     \\\\\n",
       "\\textbf{C(cp)[T.2.0]}  &      -0.0617  &        0.636     &    -0.097  &         0.923        &       -1.309    &        1.186     \\\\\n",
       "\\textbf{C(cp)[T.3.0]}  &       0.0715  &        0.573     &     0.125  &         0.901        &       -1.051    &        1.194     \\\\\n",
       "\\textbf{C(cp)[T.4.0]}  &       2.4789  &        0.553     &     4.485  &         0.000        &        1.396    &        3.562     \\\\\n",
       "\\textbf{trestbps}      &       0.0193  &        0.009     &     2.261  &         0.024        &        0.003    &        0.036     \\\\\n",
       "\\textbf{age}           &       0.0567  &        0.018     &     3.120  &         0.002        &        0.021    &        0.092     \\\\\n",
       "\\bottomrule\n",
       "\\end{tabular}\n",
       "%\\caption{Logit Regression Results}\n",
       "\\end{center}"
      ],
      "text/plain": [
       "<class 'statsmodels.iolib.summary.Summary'>\n",
       "\"\"\"\n",
       "                           Logit Regression Results                           \n",
       "==============================================================================\n",
       "Dep. Variable:            flag_doente   No. Observations:                  303\n",
       "Model:                          Logit   Df Residuals:                      296\n",
       "Method:                           MLE   Df Model:                            6\n",
       "Date:                Fri, 06 Sep 2024   Pseudo R-squ.:                  0.3097\n",
       "Time:                        20:10:25   Log-Likelihood:                -144.27\n",
       "converged:                       True   LL-Null:                       -208.99\n",
       "Covariance Type:            nonrobust   LLR p-value:                 1.692e-25\n",
       "=================================================================================\n",
       "                    coef    std err          z      P>|z|      [0.025      0.975]\n",
       "---------------------------------------------------------------------------------\n",
       "Intercept        -8.3407      1.621     -5.145      0.000     -11.518      -5.163\n",
       "C(sex)[T.1.0]     1.8094      0.353      5.130      0.000       1.118       2.501\n",
       "C(cp)[T.2.0]     -0.0617      0.636     -0.097      0.923      -1.309       1.186\n",
       "C(cp)[T.3.0]      0.0715      0.573      0.125      0.901      -1.051       1.194\n",
       "C(cp)[T.4.0]      2.4789      0.553      4.485      0.000       1.396       3.562\n",
       "trestbps          0.0193      0.009      2.261      0.024       0.003       0.036\n",
       "age               0.0567      0.018      3.120      0.002       0.021       0.092\n",
       "=================================================================================\n",
       "\"\"\""
      ]
     },
     "execution_count": 98,
     "metadata": {},
     "output_type": "execute_result"
    }
   ],
   "source": [
    "reglog.summary()"
   ]
  },
  {
   "cell_type": "markdown",
   "metadata": {},
   "source": [
    "4. Avalie o seu modelo quanto a **calibragem**:\n",
    "- Calcule a probabilidade de evento predita segundo o seu modelo\n",
    "- Categorize essa probabilidade em G=5 grupos\n",
    "- Calcule a probabilidade de evento predita média por grupo\n",
    "- Calcule a taxa de eventos (média da variável indicadora de eventos) por grupo\n",
    "- Compare graficamente o valor eperado versus observado para a taxa de maus por grupo"
   ]
  },
  {
   "cell_type": "code",
   "execution_count": 100,
   "metadata": {},
   "outputs": [
    {
     "name": "stderr",
     "output_type": "stream",
     "text": [
      "C:\\Users\\Matheus\\AppData\\Local\\Temp\\ipykernel_6516\\3260409995.py:3: FutureWarning: The default of observed=False is deprecated and will be changed to True in a future version of pandas. Pass observed=False to retain current behavior or observed=True to adopt the future default and silence this warning.\n",
      "  group_reg = df.groupby(cat_pred)\n"
     ]
    },
    {
     "data": {
      "text/html": [
       "<div>\n",
       "<style scoped>\n",
       "    .dataframe tbody tr th:only-of-type {\n",
       "        vertical-align: middle;\n",
       "    }\n",
       "\n",
       "    .dataframe tbody tr th {\n",
       "        vertical-align: top;\n",
       "    }\n",
       "\n",
       "    .dataframe thead th {\n",
       "        text-align: right;\n",
       "    }\n",
       "</style>\n",
       "<table border=\"1\" class=\"dataframe\">\n",
       "  <thead>\n",
       "    <tr style=\"text-align: right;\">\n",
       "      <th></th>\n",
       "      <th>contagem</th>\n",
       "      <th>predito</th>\n",
       "      <th>sick_mean_observed</th>\n",
       "    </tr>\n",
       "    <tr>\n",
       "      <th>predito</th>\n",
       "      <th></th>\n",
       "      <th></th>\n",
       "      <th></th>\n",
       "    </tr>\n",
       "  </thead>\n",
       "  <tbody>\n",
       "    <tr>\n",
       "      <th>(0.0131, 0.143]</th>\n",
       "      <td>62</td>\n",
       "      <td>0.072008</td>\n",
       "      <td>0.080645</td>\n",
       "    </tr>\n",
       "    <tr>\n",
       "      <th>(0.143, 0.287]</th>\n",
       "      <td>59</td>\n",
       "      <td>0.209626</td>\n",
       "      <td>0.152542</td>\n",
       "    </tr>\n",
       "    <tr>\n",
       "      <th>(0.287, 0.586]</th>\n",
       "      <td>62</td>\n",
       "      <td>0.435175</td>\n",
       "      <td>0.483871</td>\n",
       "    </tr>\n",
       "    <tr>\n",
       "      <th>(0.586, 0.822]</th>\n",
       "      <td>59</td>\n",
       "      <td>0.708861</td>\n",
       "      <td>0.762712</td>\n",
       "    </tr>\n",
       "    <tr>\n",
       "      <th>(0.822, 0.944]</th>\n",
       "      <td>61</td>\n",
       "      <td>0.874819</td>\n",
       "      <td>0.819672</td>\n",
       "    </tr>\n",
       "  </tbody>\n",
       "</table>\n",
       "</div>"
      ],
      "text/plain": [
       "                 contagem   predito  sick_mean_observed\n",
       "predito                                                \n",
       "(0.0131, 0.143]        62  0.072008            0.080645\n",
       "(0.143, 0.287]         59  0.209626            0.152542\n",
       "(0.287, 0.586]         62  0.435175            0.483871\n",
       "(0.586, 0.822]         59  0.708861            0.762712\n",
       "(0.822, 0.944]         61  0.874819            0.819672"
      ]
     },
     "execution_count": 100,
     "metadata": {},
     "output_type": "execute_result"
    }
   ],
   "source": [
    "df['predito'] = reglog.predict(df)\n",
    "cat_pred = pd.qcut(df['predito'], q=5, duplicates='drop')\n",
    "group_reg = df.groupby(cat_pred)\n",
    "qualid = group_reg[['flag_doente']].count().rename(columns = {'flag_doente': 'contagem'})\n",
    "qualid['predito'] = group_reg['predito'].mean()\n",
    "qualid['sick_mean_observed'] = group_reg[['flag_doente']].mean()\n",
    "qualid.head()"
   ]
  },
  {
   "cell_type": "markdown",
   "metadata": {},
   "source": [
    "5. Avalie o seu modelo quanto a discriminação calculando acurácia, GINI e KS."
   ]
  },
  {
   "cell_type": "code",
   "execution_count": 102,
   "metadata": {},
   "outputs": [
    {
     "data": {
      "image/png": "[encoded data removed]",
      "text/plain": [
       "<Figure size 640x480 with 1 Axes>"
      ]
     },
     "metadata": {},
     "output_type": "display_data"
    }
   ],
   "source": [
    "sns.lineplot(x=['0','1','2','3', '4'], y=qualid['predito'])\n",
    "sns.lineplot(x=[i for i in range(0,5)], y=qualid['sick_mean_observed'])\n",
    "plt.show()\n",
    "# Podemos ver claramente que existe uma excelente relação entre a média prevista por intervalo e a média observada por intervalo, o que indica que nossa\n",
    "# acurácia deve estar razoável...\n"
   ]
  },
  {
   "cell_type": "code",
   "execution_count": 103,
   "metadata": {},
   "outputs": [
    {
     "data": {
      "image/png": "[encoded data removed]",
      "text/plain": [
       "<Figure size 640x480 with 1 Axes>"
      ]
     },
     "metadata": {},
     "output_type": "display_data"
    },
    {
     "data": {
      "text/plain": [
       "<Figure size 640x480 with 0 Axes>"
      ]
     },
     "metadata": {},
     "output_type": "display_data"
    }
   ],
   "source": [
    "from sklearn.metrics import roc_curve\n",
    "from sklearn import metrics\n",
    "\n",
    "\n",
    "\n",
    "fpr, tpr, threshold = metrics.roc_curve(df['flag_doente'], df['predito'])\n",
    "auc_ = metrics.auc(fpr, tpr)\n",
    "plt.plot(fpr, tpr, color='darkorange', label = 'ROC curve {area = %0.2f}' %auc_)\n",
    "plt.plot([0, 1], [0, 1], color = 'navy', linestyle='--')\n",
    "plt.xlim(0.0, 1.0)\n",
    "plt.ylim(0.0, 1.1)\n",
    "plt.xlabel('False positive ROC')\n",
    "plt.ylabel('True positive rate')\n",
    "plt.title('receiver operating characteristic example')\n",
    "plt.legend(loc='lower right')\n",
    "plt.figure()\n",
    "plt.show()"
   ]
  },
  {
   "cell_type": "raw",
   "metadata": {},
   "source": [
    "How much bigger the area under the ROC curve, the best is our model. As we can see, our curve have an area pretty bigger than the y=x curve, what means our model is pretty more effective than a \"random choice\"..."
   ]
  },
  {
   "cell_type": "code",
   "execution_count": 104,
   "metadata": {},
   "outputs": [
    {
     "name": "stdout",
     "output_type": "stream",
     "text": [
      "A acurácia do nosso modelo é de 0.7953795379537953 \n",
      "O nosso gini é de 0.7038954202491665\n",
      "O nosso KS é de 0.5929549043691876\n",
      "O nosso AUC é de 0.8519477101245833\n"
     ]
    }
   ],
   "source": [
    "from scipy.stats import ks_2samp\n",
    "\n",
    "\n",
    "acc = metrics.accuracy_score(df['flag_doente'], df['predito']>.5)\n",
    "print(f'A acurácia do nosso modelo é de {acc} ')\n",
    "gini = 2*auc_-1\n",
    "print(f'O nosso gini é de {gini}')\n",
    "ks = ks_2samp(df.loc[df['flag_doente']==1, 'predito'], df.loc[df['flag_doente']!=1, 'predito']).statistic\n",
    "print(f'O nosso KS é de {ks}')\n",
    "print(f'O nosso AUC é de {auc_}')\n"
   ]
  },
  {
   "cell_type": "markdown",
   "metadata": {},
   "source": [
    "6. tente melhorar o modelo obtido, por exemplo inserindo ou removendo variáveis.  \n",
    "    Avalie as características do seu modelo (calibragem e acurácia)."
   ]
  },
  {
   "cell_type": "code",
   "execution_count": 137,
   "metadata": {},
   "outputs": [
    {
     "name": "stdout",
     "output_type": "stream",
     "text": [
      "Optimization terminated successfully.\n",
      "         Current function value: 0.456017\n",
      "         Iterations 6\n"
     ]
    },
    {
     "data": {
      "text/html": [
       "<table class=\"simpletable\">\n",
       "<caption>Logit Regression Results</caption>\n",
       "<tr>\n",
       "  <th>Dep. Variable:</th>      <td>flag_doente</td>   <th>  No. Observations:  </th>  <td>   303</td>  \n",
       "</tr>\n",
       "<tr>\n",
       "  <th>Model:</th>                 <td>Logit</td>      <th>  Df Residuals:      </th>  <td>   295</td>  \n",
       "</tr>\n",
       "<tr>\n",
       "  <th>Method:</th>                 <td>MLE</td>       <th>  Df Model:          </th>  <td>     7</td>  \n",
       "</tr>\n",
       "<tr>\n",
       "  <th>Date:</th>            <td>Fri, 06 Sep 2024</td> <th>  Pseudo R-squ.:     </th>  <td>0.3389</td>  \n",
       "</tr>\n",
       "<tr>\n",
       "  <th>Time:</th>                <td>20:14:00</td>     <th>  Log-Likelihood:    </th> <td> -138.17</td> \n",
       "</tr>\n",
       "<tr>\n",
       "  <th>converged:</th>             <td>True</td>       <th>  LL-Null:           </th> <td> -208.99</td> \n",
       "</tr>\n",
       "<tr>\n",
       "  <th>Covariance Type:</th>     <td>nonrobust</td>    <th>  LLR p-value:       </th> <td>2.309e-27</td>\n",
       "</tr>\n",
       "</table>\n",
       "<table class=\"simpletable\">\n",
       "<tr>\n",
       "        <td></td>           <th>coef</th>     <th>std err</th>      <th>z</th>      <th>P>|z|</th>  <th>[0.025</th>    <th>0.975]</th>  \n",
       "</tr>\n",
       "<tr>\n",
       "  <th>Intercept</th>     <td>   -8.2872</td> <td>    1.654</td> <td>   -5.010</td> <td> 0.000</td> <td>  -11.529</td> <td>   -5.045</td>\n",
       "</tr>\n",
       "<tr>\n",
       "  <th>C(sex)[T.1.0]</th> <td>    1.7153</td> <td>    0.361</td> <td>    4.757</td> <td> 0.000</td> <td>    1.009</td> <td>    2.422</td>\n",
       "</tr>\n",
       "<tr>\n",
       "  <th>C(cp)[T.2.0]</th>  <td>    0.0002</td> <td>    0.638</td> <td>    0.000</td> <td> 1.000</td> <td>   -1.250</td> <td>    1.251</td>\n",
       "</tr>\n",
       "<tr>\n",
       "  <th>C(cp)[T.3.0]</th>  <td>    0.0714</td> <td>    0.573</td> <td>    0.125</td> <td> 0.901</td> <td>   -1.052</td> <td>    1.195</td>\n",
       "</tr>\n",
       "<tr>\n",
       "  <th>C(cp)[T.4.0]</th>  <td>    2.0865</td> <td>    0.555</td> <td>    3.760</td> <td> 0.000</td> <td>    0.999</td> <td>    3.174</td>\n",
       "</tr>\n",
       "<tr>\n",
       "  <th>trestbps</th>      <td>    0.0180</td> <td>    0.009</td> <td>    2.046</td> <td> 0.041</td> <td>    0.001</td> <td>    0.035</td>\n",
       "</tr>\n",
       "<tr>\n",
       "  <th>age</th>           <td>    0.0565</td> <td>    0.018</td> <td>    3.077</td> <td> 0.002</td> <td>    0.021</td> <td>    0.093</td>\n",
       "</tr>\n",
       "<tr>\n",
       "  <th>exang</th>         <td>    1.1819</td> <td>    0.341</td> <td>    3.462</td> <td> 0.001</td> <td>    0.513</td> <td>    1.851</td>\n",
       "</tr>\n",
       "</table>"
      ],
      "text/latex": [
       "\\begin{center}\n",
       "\\begin{tabular}{lclc}\n",
       "\\toprule\n",
       "\\textbf{Dep. Variable:}   &   flag\\_doente   & \\textbf{  No. Observations:  } &      303    \\\\\n",
       "\\textbf{Model:}           &      Logit       & \\textbf{  Df Residuals:      } &      295    \\\\\n",
       "\\textbf{Method:}          &       MLE        & \\textbf{  Df Model:          } &        7    \\\\\n",
       "\\textbf{Date:}            & Fri, 06 Sep 2024 & \\textbf{  Pseudo R-squ.:     } &   0.3389    \\\\\n",
       "\\textbf{Time:}            &     20:14:00     & \\textbf{  Log-Likelihood:    } &   -138.17   \\\\\n",
       "\\textbf{converged:}       &       True       & \\textbf{  LL-Null:           } &   -208.99   \\\\\n",
       "\\textbf{Covariance Type:} &    nonrobust     & \\textbf{  LLR p-value:       } & 2.309e-27   \\\\\n",
       "\\bottomrule\n",
       "\\end{tabular}\n",
       "\\begin{tabular}{lcccccc}\n",
       "                       & \\textbf{coef} & \\textbf{std err} & \\textbf{z} & \\textbf{P$> |$z$|$} & \\textbf{[0.025} & \\textbf{0.975]}  \\\\\n",
       "\\midrule\n",
       "\\textbf{Intercept}     &      -8.2872  &        1.654     &    -5.010  &         0.000        &      -11.529    &       -5.045     \\\\\n",
       "\\textbf{C(sex)[T.1.0]} &       1.7153  &        0.361     &     4.757  &         0.000        &        1.009    &        2.422     \\\\\n",
       "\\textbf{C(cp)[T.2.0]}  &       0.0002  &        0.638     &     0.000  &         1.000        &       -1.250    &        1.251     \\\\\n",
       "\\textbf{C(cp)[T.3.0]}  &       0.0714  &        0.573     &     0.125  &         0.901        &       -1.052    &        1.195     \\\\\n",
       "\\textbf{C(cp)[T.4.0]}  &       2.0865  &        0.555     &     3.760  &         0.000        &        0.999    &        3.174     \\\\\n",
       "\\textbf{trestbps}      &       0.0180  &        0.009     &     2.046  &         0.041        &        0.001    &        0.035     \\\\\n",
       "\\textbf{age}           &       0.0565  &        0.018     &     3.077  &         0.002        &        0.021    &        0.093     \\\\\n",
       "\\textbf{exang}         &       1.1819  &        0.341     &     3.462  &         0.001        &        0.513    &        1.851     \\\\\n",
       "\\bottomrule\n",
       "\\end{tabular}\n",
       "%\\caption{Logit Regression Results}\n",
       "\\end{center}"
      ],
      "text/plain": [
       "<class 'statsmodels.iolib.summary.Summary'>\n",
       "\"\"\"\n",
       "                           Logit Regression Results                           \n",
       "==============================================================================\n",
       "Dep. Variable:            flag_doente   No. Observations:                  303\n",
       "Model:                          Logit   Df Residuals:                      295\n",
       "Method:                           MLE   Df Model:                            7\n",
       "Date:                Fri, 06 Sep 2024   Pseudo R-squ.:                  0.3389\n",
       "Time:                        20:14:00   Log-Likelihood:                -138.17\n",
       "converged:                       True   LL-Null:                       -208.99\n",
       "Covariance Type:            nonrobust   LLR p-value:                 2.309e-27\n",
       "=================================================================================\n",
       "                    coef    std err          z      P>|z|      [0.025      0.975]\n",
       "---------------------------------------------------------------------------------\n",
       "Intercept        -8.2872      1.654     -5.010      0.000     -11.529      -5.045\n",
       "C(sex)[T.1.0]     1.7153      0.361      4.757      0.000       1.009       2.422\n",
       "C(cp)[T.2.0]      0.0002      0.638      0.000      1.000      -1.250       1.251\n",
       "C(cp)[T.3.0]      0.0714      0.573      0.125      0.901      -1.052       1.195\n",
       "C(cp)[T.4.0]      2.0865      0.555      3.760      0.000       0.999       3.174\n",
       "trestbps          0.0180      0.009      2.046      0.041       0.001       0.035\n",
       "age               0.0565      0.018      3.077      0.002       0.021       0.093\n",
       "exang             1.1819      0.341      3.462      0.001       0.513       1.851\n",
       "=================================================================================\n",
       "\"\"\""
      ]
     },
     "execution_count": 137,
     "metadata": {},
     "output_type": "execute_result"
    }
   ],
   "source": [
    "reglog2 = smf.logit(\"flag_doente ~ C(sex) + C(cp) + trestbps + age + exang\", data = df).fit()\n",
    "reglog2.summary()\n",
    "\n",
    "\n",
    "# Redo all the metrics to see all characteristics of our model would not be exactly the exercise intention, but, the configuration of\n",
    "# variables described above, have brought a bigger immediate higher score in our pseudo R-Squared, which is enough to, at least, expect a better \n",
    "# result from that model..."
   ]
  },
  {
   "cell_type": "code",
   "execution_count": 139,
   "metadata": {},
   "outputs": [
    {
     "name": "stderr",
     "output_type": "stream",
     "text": [
      "C:\\Users\\Matheus\\AppData\\Local\\Temp\\ipykernel_6516\\1867578478.py:4: FutureWarning: The default of observed=False is deprecated and will be changed to True in a future version of pandas. Pass observed=False to retain current behavior or observed=True to adopt the future default and silence this warning.\n",
      "  group_reg = df2.groupby(cat_pred)\n"
     ]
    },
    {
     "data": {
      "text/plain": [
       "0.7821782178217822"
      ]
     },
     "execution_count": 139,
     "metadata": {},
     "output_type": "execute_result"
    }
   ],
   "source": [
    "df2 = df.copy()\n",
    "df2['predito'] = reglog2.predict(df2)\n",
    "cat_pred = pd.qcut(df2['predito'], q=5, duplicates='drop')\n",
    "group_reg = df2.groupby(cat_pred)\n",
    "qualid = group_reg[['flag_doente']].count().rename(columns = {'flag_doente': 'contagem'})\n",
    "qualid['predito'] = group_reg['predito'].mean()\n",
    "qualid['sick_mean_observed'] = group_reg[['flag_doente']].mean()\n",
    "\n",
    "\n",
    "acc = metrics.accuracy_score(df2['flag_doente'], df2['predito']>.5)\n",
    "acc\n"
   ]
  },
  {
   "cell_type": "code",
   "execution_count": 141,
   "metadata": {},
   "outputs": [
    {
     "data": {
      "text/html": [
       "<div>\n",
       "<style scoped>\n",
       "    .dataframe tbody tr th:only-of-type {\n",
       "        vertical-align: middle;\n",
       "    }\n",
       "\n",
       "    .dataframe tbody tr th {\n",
       "        vertical-align: top;\n",
       "    }\n",
       "\n",
       "    .dataframe thead th {\n",
       "        text-align: right;\n",
       "    }\n",
       "</style>\n",
       "<table border=\"1\" class=\"dataframe\">\n",
       "  <thead>\n",
       "    <tr style=\"text-align: right;\">\n",
       "      <th></th>\n",
       "      <th>contagem</th>\n",
       "      <th>predito</th>\n",
       "      <th>sick_mean_observed</th>\n",
       "    </tr>\n",
       "    <tr>\n",
       "      <th>predito</th>\n",
       "      <th></th>\n",
       "      <th></th>\n",
       "      <th></th>\n",
       "    </tr>\n",
       "  </thead>\n",
       "  <tbody>\n",
       "    <tr>\n",
       "      <th>(0.012199999999999999, 0.131]</th>\n",
       "      <td>61</td>\n",
       "      <td>0.067482</td>\n",
       "      <td>0.081967</td>\n",
       "    </tr>\n",
       "    <tr>\n",
       "      <th>(0.131, 0.29]</th>\n",
       "      <td>60</td>\n",
       "      <td>0.194005</td>\n",
       "      <td>0.183333</td>\n",
       "    </tr>\n",
       "    <tr>\n",
       "      <th>(0.29, 0.547]</th>\n",
       "      <td>61</td>\n",
       "      <td>0.416443</td>\n",
       "      <td>0.426230</td>\n",
       "    </tr>\n",
       "    <tr>\n",
       "      <th>(0.547, 0.85]</th>\n",
       "      <td>61</td>\n",
       "      <td>0.716284</td>\n",
       "      <td>0.721311</td>\n",
       "    </tr>\n",
       "    <tr>\n",
       "      <th>(0.85, 0.967]</th>\n",
       "      <td>60</td>\n",
       "      <td>0.902449</td>\n",
       "      <td>0.883333</td>\n",
       "    </tr>\n",
       "  </tbody>\n",
       "</table>\n",
       "</div>"
      ],
      "text/plain": [
       "                               contagem   predito  sick_mean_observed\n",
       "predito                                                              \n",
       "(0.012199999999999999, 0.131]        61  0.067482            0.081967\n",
       "(0.131, 0.29]                        60  0.194005            0.183333\n",
       "(0.29, 0.547]                        61  0.416443            0.426230\n",
       "(0.547, 0.85]                        61  0.716284            0.721311\n",
       "(0.85, 0.967]                        60  0.902449            0.883333"
      ]
     },
     "execution_count": 141,
     "metadata": {},
     "output_type": "execute_result"
    }
   ],
   "source": [
    "qualid.head()"
   ]
  },
  {
   "cell_type": "raw",
   "metadata": {},
   "source": []
  },
  {
   "cell_type": "code",
   "execution_count": null,
   "metadata": {},
   "outputs": [],
   "source": []
  }
 ],
 "metadata": {
  "kernelspec": {
   "display_name": "Python 3 (ipykernel)",
   "language": "python",
   "name": "python3"
  },
  "language_info": {
   "codemirror_mode": {
    "name": "ipython",
    "version": 3
   },
   "file_extension": ".py",
   "mimetype": "text/x-python",
   "name": "python",
   "nbconvert_exporter": "python",
   "pygments_lexer": "ipython3",
   "version": "3.12.4"
  }
 },
 "nbformat": 4,
 "nbformat_minor": 4
}
